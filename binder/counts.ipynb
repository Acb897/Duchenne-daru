{
 "cells": [
  {
   "cell_type": "markdown",
   "metadata": {},
   "source": [
    "# Hi Nawel!  \n",
    "\n",
    "## This is an example of the presentation I had in-mind\n",
    "\n",
    "You're working with a Jupyter Notebook.  These are interactive software environments where it is possible to modify and run code embedded in the web page.\n",
    "\n",
    "To run the code, click in the code box, then either click the \"run\" icon above, or press <ctrl><Enter> (simultaneously) on your keyboard.\n",
    "    \n",
    "Try it below!\n"
   ]
  },
  {
   "cell_type": "code",
   "execution_count": 1,
   "metadata": {},
   "outputs": [
    {
     "name": "stdout",
     "output_type": "stream",
     "text": [
      "Hi Nawel!"
     ]
    }
   ],
   "source": [
    "# click in here, then press \"control enter\" or the run icon above\n",
    "\n",
    "print \"Hi Nawel!\""
   ]
  },
  {
   "cell_type": "markdown",
   "metadata": {},
   "source": [
    "# Now lets have fun!\n",
    "\n",
    "I want to call your grlc server, but first, we need to load a few things.  Execute the code in the box below to se-up the environment\n"
   ]
  },
  {
   "cell_type": "code",
   "execution_count": 4,
   "metadata": {},
   "outputs": [
    {
     "data": {
      "application/javascript": [
       "if(window['d3'] === undefined ||\n",
       "   window['Nyaplot'] === undefined){\n",
       "    var path = {\"d3\":\"https://cdnjs.cloudflare.com/ajax/libs/d3/3.5.5/d3.min\",\"downloadable\":\"http://cdn.rawgit.com/domitry/d3-downloadable/master/d3-downloadable\"};\n",
       "\n",
       "\n",
       "\n",
       "    var shim = {\"d3\":{\"exports\":\"d3\"},\"downloadable\":{\"exports\":\"downloadable\"}};\n",
       "\n",
       "    require.config({paths: path, shim:shim});\n",
       "\n",
       "\n",
       "require(['d3'], function(d3){window['d3']=d3;console.log('finished loading d3');require(['downloadable'], function(downloadable){window['downloadable']=downloadable;console.log('finished loading downloadable');\n",
       "\n",
       "\tvar script = d3.select(\"head\")\n",
       "\t    .append(\"script\")\n",
       "\t    .attr(\"src\", \"http://cdn.rawgit.com/domitry/Nyaplotjs/master/release/nyaplot.js\")\n",
       "\t    .attr(\"async\", true);\n",
       "\n",
       "\tscript[0][0].onload = script[0][0].onreadystatechange = function(){\n",
       "\n",
       "\n",
       "\t    var event = document.createEvent(\"HTMLEvents\");\n",
       "\t    event.initEvent(\"load_nyaplot\",false,false);\n",
       "\t    window.dispatchEvent(event);\n",
       "\t    console.log('Finished loading Nyaplotjs');\n",
       "\n",
       "\t};\n",
       "\n",
       "\n",
       "});});\n",
       "}\n"
      ],
      "text/plain": [
       "\"if(window['d3'] === undefined ||\\n   window['Nyaplot'] === undefined){\\n    var path = {\\\"d3\\\":\\\"https://cdnjs.cloudflare.com/ajax/libs/d3/3.5.5/d3.min\\\",\\\"downloadable\\\":\\\"http://cdn.rawgit.com/domitry/d3-downloadable/master/d3-downloadable\\\"};\\n\\n\\n\\n    var shim = {\\\"d3\\\":{\\\"exports\\\":\\\"d3\\\"},\\\"downloadable\\\":{\\\"exports\\\":\\\"downloadable\\\"}};\\n\\n    require.config({paths: path, shim:shim});\\n\\n\\nrequire(['d3'], function(d3){window['d3']=d3;console.log('finished loading d3');require(['downloadable'], function(downloadable){window['downloadable']=downloadable;console.log('finished loading downloadable');\\n\\n\\tvar script = d3.select(\\\"head\\\")\\n\\t    .append(\\\"script\\\")\\n\\t    .attr(\\\"src\\\", \\\"http://cdn.rawgit.com/domitry/Nyaplotjs/master/release/nyaplot.js\\\")\\n\\t    .attr(\\\"async\\\", true);\\n\\n\\tscript[0][0].onload = script[0][0].onreadystatechange = function(){\\n\\n\\n\\t    var event = document.createEvent(\\\"HTMLEvents\\\");\\n\\t    event.initEvent(\\\"load_nyaplot\\\",false,false);\\n\\t    window.dispatchEvent(event);\\n\\t    console.log('Finished loading Nyaplotjs');\\n\\n\\t};\\n\\n\\n});});\\n}\\n\""
      ]
     },
     "metadata": {},
     "output_type": "display_data"
    },
    {
     "name": "stdout",
     "output_type": "stream",
     "text": [
      "thanks!  Go to the next box now :-)\n"
     ]
    }
   ],
   "source": [
    "require 'daru/view'\n",
    "require 'rest-client'\n",
    "\n",
    "Daru::View.plotting_library = :nyaplot\n",
    "\n",
    "opts = {\n",
    "  type: :bar,\n",
    "}\n",
    "puts  \"thanks!  Go to the next box now :-)\""
   ]
  },
  {
   "cell_type": "code",
   "execution_count": 7,
   "metadata": {},
   "outputs": [
    {
     "name": "stdout",
     "output_type": "stream",
     "text": [
      "Duchenne\n",
      "\n",
      "Becker\n",
      "count\n",
      "1\n"
     ]
    }
   ],
   "source": [
    "\n",
    "duchennecsv = RestClient.get('http://fairdata.services:8088/api-local/count?type=http%3A%2F%2Fwww.orpha.net%2FORDO%2FOrphanet_98896')\n",
    "beckercsv = RestClient.get('http://fairdata.services:8088/api-local/count?type=http%3A%2F%2Fwww.orpha.net%2FORDO%2FOrphanet_98895')\n",
    "\n",
    "puts \"Duchenne Patients\"\n",
    "puts duchennecsv\n",
    "puts\n",
    "puts \"Becker\"\n",
    "puts beckercsv"
   ]
  },
  {
   "cell_type": "code",
   "execution_count": null,
   "metadata": {},
   "outputs": [],
   "source": [
    "duchenne_count = duchennecsv.body.split.last.to_i\n",
    "becker_count = beckercsv.body.split.last.to_i\n",
    "\n",
    "data_vector = Daru::Vector.new( \n",
    "  [\"Duchenne\"]*duchenne_count + [\"Becker\"]*becker_count, \n",
    "  type: :category, \n",
    "  categories: [\"Duchenne\", \"Becker\"]\n",
    "  )\n",
    "\n",
    "graph = Daru::View::Plot.new(data_vector, opts)\n",
    "graph.chart.x_label(\"Disease\")\n",
    "graph.chart.y_label(\"Frequency\")\n",
    "graph.show_in_iruby"
   ]
  }
 ],
 "metadata": {
  "kernelspec": {
   "display_name": "Ruby 3.0.0",
   "language": "ruby",
   "name": "ruby"
  },
  "language_info": {
   "file_extension": ".rb",
   "mimetype": "application/x-ruby",
   "name": "ruby",
   "version": "3.0.0"
  }
 },
 "nbformat": 4,
 "nbformat_minor": 2
}
