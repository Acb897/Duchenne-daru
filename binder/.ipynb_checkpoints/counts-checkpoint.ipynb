{
 "cells": [
  {
   "cell_type": "code",
   "execution_count": null,
   "metadata": {},
   "outputs": [],
   "source": [
    "require 'daru/view'\n",
    "require 'rest-client'\n",
    "\n",
    "Daru::View.plotting_library = :googlecharts\n",
    "\n",
    "puts  \"thanks!  Go to the next box now :-)\""
   ]
  },
  {
   "cell_type": "code",
   "execution_count": null,
   "metadata": {},
   "outputs": [],
   "source": [
    "\n",
    "duchenne = \"Orphanet_98896\"  # the Orphanet code for Duchenne\n",
    "becker = \"Orphanet_98895\"    # the Orphanet code for Becker\n",
    "duchennecsv = RestClient.get(\"https://www.fairdata.services/proxy/grlc?type=http%3A%2F%2Fwww.orpha.net%2FORDO%2F#{duchenne}\")  # The URL to the interface\n",
    "beckercsv =   RestClient.get(\"https://www.fairdata.services/proxy/grlc?type=http%3A%2F%2Fwww.orpha.net%2FORDO%2F#{becker}\")\n",
    "\n",
    "puts \"Duchenne Patients\"\n",
    "puts duchennecsv   # note that this is the ENTIRE OUTPUT from that request...\n",
    "                   # this proves that no private data is being exposed\n",
    "puts\n",
    "puts \"Becker\"\n",
    "puts beckercsv"
   ]
  },
  {
   "cell_type": "code",
   "execution_count": null,
   "metadata": {},
   "outputs": [],
   "source": [
    "duchenne_count = duchennecsv.body.split.last.to_i\n",
    "becker_count = beckercsv.body.split.last.to_i\n",
    "\n",
    "data_rows = [\n",
    "  ['Duchenne', duchenne_count],\n",
    "  ['Becker', becker_count]\n",
    "  ]\n",
    "\n",
    "  index = Daru::Index.new ['Disease', 'Patient Count']\n",
    "\n",
    "  frame = Daru::DataFrame.rows(data_rows)\n",
    "  frame.vectors = index\n",
    "  table =  Daru::View::Table.new(frame)\n",
    "\n",
    "  options =  { title: 'Patient Counts',\n",
    "               type: :bar}\n",
    "\n",
    "  chart = Daru::View::Plot.new(table.table, options)\n",
    "  chart.show_in_iruby"
   ]
  }
 ],
 "metadata": {
  "kernelspec": {
   "display_name": "Ruby 3.0.0",
   "language": "ruby",
   "name": "ruby"
  },
  "language_info": {
   "file_extension": ".rb",
   "mimetype": "application/x-ruby",
   "name": "ruby",
   "version": "3.0.0"
  }
 },
 "nbformat": 4,
 "nbformat_minor": 2
}
