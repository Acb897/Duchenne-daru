{
 "cells": [
  {
   "cell_type": "markdown",
   "metadata": {},
   "source": [
    "# Hi Nawel!  \n",
    "\n",
    "## This is an example of the presentation I had in-mind\n",
    "\n",
    "You're working with a Jupyter Notebook.  These are interactive software environments where it is possible to modify and run code embedded in the web page.\n",
    "\n",
    "To run the code, click in the code box, then either click the \"run\" icon above, or press <ctrl><Enter> (simultaneously) on your keyboard.\n",
    "    \n",
    "Try it below!\n"
   ]
  },
  {
   "cell_type": "code",
   "execution_count": 6,
   "metadata": {},
   "outputs": [
    {
     "name": "stdout",
     "output_type": "stream",
     "text": [
      "Hi Naweldsfgsdfgsdfgsdf!"
     ]
    }
   ],
   "source": [
    "# click in here, then press \"control enter\" or the run icon above\n",
    "\n",
    "print \"Hi Naweldsfgsdfgsdfgsdf!\""
   ]
  },
  {
   "cell_type": "markdown",
   "metadata": {},
   "source": [
    "# Now lets have fun!\n",
    "\n",
    "I want to call your grlc server, but first, we need to load a few things.  Execute the code in the box below to se-up the environment\n"
   ]
  },
  {
   "cell_type": "code",
   "execution_count": 7,
   "metadata": {},
   "outputs": [
    {
     "data": {
      "application/javascript": "if(window['d3'] === undefined ||\n   window['Nyaplot'] === undefined){\n    var path = {\"d3\":\"https://cdnjs.cloudflare.com/ajax/libs/d3/3.5.5/d3.min\",\"downloadable\":\"http://cdn.rawgit.com/domitry/d3-downloadable/master/d3-downloadable\"};\n\n\n\n    var shim = {\"d3\":{\"exports\":\"d3\"},\"downloadable\":{\"exports\":\"downloadable\"}};\n\n    require.config({paths: path, shim:shim});\n\n\nrequire(['d3'], function(d3){window['d3']=d3;console.log('finished loading d3');require(['downloadable'], function(downloadable){window['downloadable']=downloadable;console.log('finished loading downloadable');\n\n\tvar script = d3.select(\"head\")\n\t    .append(\"script\")\n\t    .attr(\"src\", \"http://cdn.rawgit.com/domitry/Nyaplotjs/master/release/nyaplot.js\")\n\t    .attr(\"async\", true);\n\n\tscript[0][0].onload = script[0][0].onreadystatechange = function(){\n\n\n\t    var event = document.createEvent(\"HTMLEvents\");\n\t    event.initEvent(\"load_nyaplot\",false,false);\n\t    window.dispatchEvent(event);\n\t    console.log('Finished loading Nyaplotjs');\n\n\t};\n\n\n});});\n}\n",
      "text/plain": [
       "\"if(window['d3'] === undefined ||\\n   window['Nyaplot'] === undefined){\\n    var path = {\\\"d3\\\":\\\"https://cdnjs.cloudflare.com/ajax/libs/d3/3.5.5/d3.min\\\",\\\"downloadable\\\":\\\"http://cdn.rawgit.com/domitry/d3-downloadable/master/d3-downloadable\\\"};\\n\\n\\n\\n    var shim = {\\\"d3\\\":{\\\"exports\\\":\\\"d3\\\"},\\\"downloadable\\\":{\\\"exports\\\":\\\"downloadable\\\"}};\\n\\n    require.config({paths: path, shim:shim});\\n\\n\\nrequire(['d3'], function(d3){window['d3']=d3;console.log('finished loading d3');require(['downloadable'], function(downloadable){window['downloadable']=downloadable;console.log('finished loading downloadable');\\n\\n\\tvar script = d3.select(\\\"head\\\")\\n\\t    .append(\\\"script\\\")\\n\\t    .attr(\\\"src\\\", \\\"http://cdn.rawgit.com/domitry/Nyaplotjs/master/release/nyaplot.js\\\")\\n\\t    .attr(\\\"async\\\", true);\\n\\n\\tscript[0][0].onload = script[0][0].onreadystatechange = function(){\\n\\n\\n\\t    var event = document.createEvent(\\\"HTMLEvents\\\");\\n\\t    event.initEvent(\\\"load_nyaplot\\\",false,false);\\n\\t    window.dispatchEvent(event);\\n\\t    console.log('Finished loading Nyaplotjs');\\n\\n\\t};\\n\\n\\n});});\\n}\\n\""
      ]
     },
     "metadata": {},
     "output_type": "display_data"
    },
    {
     "name": "stdout",
     "output_type": "stream",
     "text": [
      "thanks!  Go to the next box now :-)\n"
     ]
    }
   ],
   "source": [
    "require 'daru/view'\n",
    "require 'rest-client'\n",
    "\n",
    "Daru::View.plotting_library = :googlecharts\n",
    "\n",
    "puts  \"thanks!  Go to the next box now :-)\""
   ]
  },
  {
   "cell_type": "code",
   "execution_count": 8,
   "metadata": {},
   "outputs": [
    {
     "name": "stdout",
     "output_type": "stream",
     "text": [
      "Duchenne Patients\n",
      "count\n",
      "48\n",
      "\n",
      "Becker\n",
      "count\n",
      "1\n"
     ]
    }
   ],
   "source": [
    "\n",
    "duchenne = \"Orphanet_98896\"\n",
    "becker = \"Orphanet_98895\"\n",
    "duchennecsv = RestClient.get(\"https://www.fairdata.services/proxy/grlc?type=http%3A%2F%2Fwww.orpha.net%2FORDO%2F#{duchenne}\")\n",
    "beckercsv =   RestClient.get(\"https://www.fairdata.services/proxy/grlc?type=http%3A%2F%2Fwww.orpha.net%2FORDO%2F#{becker}\")\n",
    "\n",
    "puts \"Duchenne Patients\"\n",
    "puts duchennecsv\n",
    "puts\n",
    "puts \"Becker\"\n",
    "puts beckercsv"
   ]
  },
  {
   "cell_type": "code",
   "execution_count": 9,
   "metadata": {},
   "outputs": [
    {
     "data": {
      "text/html": [
       "<div id='vis-6da5ca2c-deb1-4ecd-b79a-08cb5ba44230'></div>\n",
       "<script>\n",
       "(function(){\n",
       "    var render = function(){\n",
       "        var model = {\"panes\":[{\"diagrams\":[{\"type\":\"bar\",\"options\":{\"x\":\"data0\",\"y\":\"data1\"},\"data\":\"5c33e3bc-06aa-41e3-9aa8-30daa70e97b1\"}],\"options\":{\"x_label\":\"Disease\",\"y_label\":\"Frequency\",\"width\":700,\"xrange\":[\"Duchenne\",\"Becker\"],\"yrange\":[0,48]}}],\"data\":{\"5c33e3bc-06aa-41e3-9aa8-30daa70e97b1\":[{\"data0\":\"Duchenne\",\"data1\":48},{\"data0\":\"Becker\",\"data1\":1}]},\"extension\":[]}\n",
       "        var id_name = '#vis-6da5ca2c-deb1-4ecd-b79a-08cb5ba44230';\n",
       "        Nyaplot.core.parse(model, id_name);\n",
       "\n",
       "        require(['downloadable'], function(downloadable){\n",
       "          var svg = d3.select(id_name).select(\"svg\");\n",
       "\t  if(!svg.empty())\n",
       "\t    svg.call(downloadable().filename('fig'));\n",
       "\t});\n",
       "    };\n",
       "    if(window['Nyaplot']==undefined){\n",
       "        window.addEventListener('load_nyaplot', render, false);\n",
       "\treturn;\n",
       "    } else {\n",
       "       render();\n",
       "    }\n",
       "})();\n",
       "</script>\n"
      ],
      "text/plain": [
       "#<Nyaplot::Frame:0x000055c10f211be8 @properties={:panes=>[#<Nyaplot::Plot:0x000055c10f213538 @properties={:diagrams=>[#<Nyaplot::Diagram:0x000055c10f212430 @properties={:type=>:bar, :options=>{:x=>\"data0\", :y=>\"data1\"}, :data=>\"5c33e3bc-06aa-41e3-9aa8-30daa70e97b1\"}, @xrange=[\"Duchenne\", \"Becker\"], @yrange=[0, 48]>], :options=>{:x_label=>\"Disease\", :y_label=>\"Frequency\", :width=>700, :xrange=>[\"Duchenne\", \"Becker\"], :yrange=>[0, 48]}}>], :data=>{\"5c33e3bc-06aa-41e3-9aa8-30daa70e97b1\"=>#<Nyaplot::DataFrame:0x000055c10f2129f8 @name=\"5c33e3bc-06aa-41e3-9aa8-30daa70e97b1\", @rows=[{:data0=>\"Duchenne\", :data1=>48}, {:data0=>\"Becker\", :data1=>1}]>}, :extension=>[]}>"
      ]
     },
     "metadata": {},
     "output_type": "display_data"
    }
   ],
   "source": [
    "duchenne_count = duchennecsv.body.split.last.to_i\n",
    "becker_count = beckercsv.body.split.last.to_i\n",
    "\n",
    "data_rows = [\n",
    "  ['Duchenne', duchenne_count],\n",
    "  ['Becker', becker_count]\n",
    "  ]\n",
    "  index = Daru::Index.new ['Disease', 'Patient Count',]\n",
    "  frame = Daru::DataFrame.rows(data_rows)\n",
    "  frame.vectors = index\n",
    "  table =  Daru::View::Table.new(frame)\n",
    "  \n",
    "  options =  { title: 'Patient Counts',\n",
    "               type: :bar}\n",
    "  chart = Daru::View::Plot.new(table.table, options)\n",
    "  chart.show_in_iruby"
   ]
  }
 ],
 "metadata": {
  "kernelspec": {
   "display_name": "Ruby 3.0.0",
   "language": "ruby",
   "name": "ruby"
  },
  "language_info": {
   "file_extension": ".rb",
   "mimetype": "application/x-ruby",
   "name": "ruby",
   "version": "3.0.0"
  }
 },
 "nbformat": 4,
 "nbformat_minor": 2
}
