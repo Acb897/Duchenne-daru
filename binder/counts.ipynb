{
 "cells": [
  {
   "cell_type": "code",
   "execution_count": null,
   "metadata": {},
   "outputs": [],
   "source": [
    "# set the library, to plot charts (Default it is nyaplot only)\n",
    "Daru::View.plotting_library = :nyaplot\n",
    "\n",
    "\n",
    "# options for the charts\n",
    "opts = {\n",
    "  type: :bar\n",
    "}\n",
    "\n",
    "# Vector data for the charts\n",
    "data_vector = Daru::Vector.new [:a, :a, :a, :b, :b, :c], type: :category\n",
    "data_df = Daru::DataFrame.new({\n",
    "  a: [1, 2, 4, -2, 5, 23, 0],\n",
    "  b: [3, 1, 3, -6, 2, 1, 0],\n",
    "  c: ['I', 'II', 'I', 'III', 'I', 'III', 'II']\n",
    "  })\n",
    "data_df.to_category :c\n",
    "\n",
    "# initialize\n",
    "@bar_graph_vector = Daru::View::Plot.new(data_vector ,opts)\n",
    "@bar_graph_df = Daru::View::Plot.new(data_df, type: :bar, x: :c)\n",
    "\n",
    "# Add this line in your view file, where you want to see your graph in the web application. (It will put the HTML code of the line graph on the web page)\n",
    "\n",
    "<%=raw @bar_graph_vector.div %>\n",
    "<%=raw @bar_graph_df.div %>\n",
    "\n",
    "# Now refresh the page, you will be able to see your graph.\n",
    "\n",
    "\n",
    "# IRuby notebook\n",
    "@bar_graph_vector.show_in_iruby"
   ]
  }
 ],
 "metadata": {
  "language_info": {
   "name": "plaintext"
  },
  "orig_nbformat": 4
 },
 "nbformat": 4,
 "nbformat_minor": 2
}
