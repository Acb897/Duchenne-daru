{
 "cells": [
  {
   "cell_type": "code",
   "execution_count": 76,
   "metadata": {},
   "outputs": [
    {
     "data": {
      "application/javascript": [
       "if(window['d3'] === undefined ||\n",
       "   window['Nyaplot'] === undefined){\n",
       "    var path = {\"d3\":\"https://cdnjs.cloudflare.com/ajax/libs/d3/3.5.5/d3.min\",\"downloadable\":\"http://cdn.rawgit.com/domitry/d3-downloadable/master/d3-downloadable\"};\n",
       "\n",
       "\n",
       "\n",
       "    var shim = {\"d3\":{\"exports\":\"d3\"},\"downloadable\":{\"exports\":\"downloadable\"}};\n",
       "\n",
       "    require.config({paths: path, shim:shim});\n",
       "\n",
       "\n",
       "require(['d3'], function(d3){window['d3']=d3;console.log('finished loading d3');require(['downloadable'], function(downloadable){window['downloadable']=downloadable;console.log('finished loading downloadable');\n",
       "\n",
       "\tvar script = d3.select(\"head\")\n",
       "\t    .append(\"script\")\n",
       "\t    .attr(\"src\", \"http://cdn.rawgit.com/domitry/Nyaplotjs/master/release/nyaplot.js\")\n",
       "\t    .attr(\"async\", true);\n",
       "\n",
       "\tscript[0][0].onload = script[0][0].onreadystatechange = function(){\n",
       "\n",
       "\n",
       "\t    var event = document.createEvent(\"HTMLEvents\");\n",
       "\t    event.initEvent(\"load_nyaplot\",false,false);\n",
       "\t    window.dispatchEvent(event);\n",
       "\t    console.log('Finished loading Nyaplotjs');\n",
       "\n",
       "\t};\n",
       "\n",
       "\n",
       "});});\n",
       "}\n"
      ],
      "text/plain": [
       "\"if(window['d3'] === undefined ||\\n   window['Nyaplot'] === undefined){\\n    var path = {\\\"d3\\\":\\\"https://cdnjs.cloudflare.com/ajax/libs/d3/3.5.5/d3.min\\\",\\\"downloadable\\\":\\\"http://cdn.rawgit.com/domitry/d3-downloadable/master/d3-downloadable\\\"};\\n\\n\\n\\n    var shim = {\\\"d3\\\":{\\\"exports\\\":\\\"d3\\\"},\\\"downloadable\\\":{\\\"exports\\\":\\\"downloadable\\\"}};\\n\\n    require.config({paths: path, shim:shim});\\n\\n\\nrequire(['d3'], function(d3){window['d3']=d3;console.log('finished loading d3');require(['downloadable'], function(downloadable){window['downloadable']=downloadable;console.log('finished loading downloadable');\\n\\n\\tvar script = d3.select(\\\"head\\\")\\n\\t    .append(\\\"script\\\")\\n\\t    .attr(\\\"src\\\", \\\"http://cdn.rawgit.com/domitry/Nyaplotjs/master/release/nyaplot.js\\\")\\n\\t    .attr(\\\"async\\\", true);\\n\\n\\tscript[0][0].onload = script[0][0].onreadystatechange = function(){\\n\\n\\n\\t    var event = document.createEvent(\\\"HTMLEvents\\\");\\n\\t    event.initEvent(\\\"load_nyaplot\\\",false,false);\\n\\t    window.dispatchEvent(event);\\n\\t    console.log('Finished loading Nyaplotjs');\\n\\n\\t};\\n\\n\\n});});\\n}\\n\""
      ]
     },
     "metadata": {},
     "output_type": "display_data"
    },
    {
     "data": {
      "text/html": [
       "<div id='vis-1f1ec127-571c-40fd-981f-bd5c853f2e6c'></div>\n",
       "<script>\n",
       "(function(){\n",
       "    var render = function(){\n",
       "        var model = {\"panes\":[{\"diagrams\":[{\"type\":\"bar\",\"options\":{\"x\":\"data0\",\"y\":\"data1\"},\"data\":\"e5834f31-2f10-42d2-89b6-0e726bfaff00\"}],\"options\":{\"x_label\":\"Disease\",\"y_label\":\"Frequency\",\"width\":700,\"xrange\":[\"Duchenne\",\"Becker\"],\"yrange\":[0,48]}}],\"data\":{\"e5834f31-2f10-42d2-89b6-0e726bfaff00\":[{\"data0\":\"Duchenne\",\"data1\":48},{\"data0\":\"Becker\",\"data1\":1}]},\"extension\":[]}\n",
       "        var id_name = '#vis-1f1ec127-571c-40fd-981f-bd5c853f2e6c';\n",
       "        Nyaplot.core.parse(model, id_name);\n",
       "\n",
       "        require(['downloadable'], function(downloadable){\n",
       "          var svg = d3.select(id_name).select(\"svg\");\n",
       "\t  if(!svg.empty())\n",
       "\t    svg.call(downloadable().filename('fig'));\n",
       "\t});\n",
       "    };\n",
       "    if(window['Nyaplot']==undefined){\n",
       "        window.addEventListener('load_nyaplot', render, false);\n",
       "\treturn;\n",
       "    } else {\n",
       "       render();\n",
       "    }\n",
       "})();\n",
       "</script>\n"
      ],
      "text/plain": [
       "#<Nyaplot::Frame:0x000055982ce13128 @properties={:panes=>[#<Nyaplot::Plot:0x000055982ce19500 @properties={:diagrams=>[#<Nyaplot::Diagram:0x000055982ce13c68 @properties={:type=>:bar, :options=>{:x=>\"data0\", :y=>\"data1\"}, :data=>\"e5834f31-2f10-42d2-89b6-0e726bfaff00\"}, @xrange=[\"Duchenne\", \"Becker\"], @yrange=[0, 48]>], :options=>{:x_label=>\"Disease\", :y_label=>\"Frequency\", :width=>700, :xrange=>[\"Duchenne\", \"Becker\"], :yrange=>[0, 48]}}>], :data=>{\"e5834f31-2f10-42d2-89b6-0e726bfaff00\"=>#<Nyaplot::DataFrame:0x000055982ce18380 @name=\"e5834f31-2f10-42d2-89b6-0e726bfaff00\", @rows=[{:data0=>\"Duchenne\", :data1=>48}, {:data0=>\"Becker\", :data1=>1}]>}, :extension=>[]}>"
      ]
     },
     "metadata": {},
     "output_type": "display_data"
    }
   ],
   "source": [
    "require 'daru/view'\n",
    "require 'rest-client'\n",
    "\n",
    "Daru::View.plotting_library = :nyaplot\n",
    "\n",
    "opts = {\n",
    "  type: :bar,\n",
    "}\n",
    "\n",
    "duchennecsv = RestClient.get('http://fairdata.services:8088/api-local/count?type=http%3A%2F%2Fwww.orpha.net%2FORDO%2FOrphanet_98896')\n",
    "beckercsv = RestClient.get('http://fairdata.services:8088/api-local/count?type=http%3A%2F%2Fwww.orpha.net%2FORDO%2FOrphanet_98895')\n",
    "\n",
    "duchenne_count = duchennecsv.body.split.last.to_i\n",
    "becker_count = beckercsv.body.split.last.to_i\n",
    "\n",
    "data_vector = Daru::Vector.new( \n",
    "  [\"Duchenne\"]*duchenne_count + [\"Becker\"]*becker_count, \n",
    "  type: :category, \n",
    "  categories: [\"Duchenne\", \"Becker\"]\n",
    "  )\n",
    "\n",
    "graph = Daru::View::Plot.new(data_vector, opts)\n",
    "graph.chart.x_label(\"Disease\")\n",
    "graph.chart.y_label(\"Frequency\")\n",
    "graph.show_in_iruby"
   ]
  }
 ],
 "metadata": {
  "kernelspec": {
   "display_name": "Ruby 3.0.0",
   "language": "ruby",
   "name": "ruby"
  },
  "language_info": {
   "file_extension": ".rb",
   "mimetype": "application/x-ruby",
   "name": "ruby",
   "version": "3.0.0"
  }
 },
 "nbformat": 4,
 "nbformat_minor": 2
}
