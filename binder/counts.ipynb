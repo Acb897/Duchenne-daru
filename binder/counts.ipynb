{
 "cells": [
  {
   "cell_type": "markdown",
   "metadata": {},
   "source": [
    "# Hi Nawel!  \n",
    "\n",
    "## This is an example of the presentation I had in-mind\n",
    "\n",
    "You're working with a Jupyter Notebook.  These are interactive software environments where it is possible to modify and run code embedded in the web page.\n",
    "\n",
    "To run the code, click in the code box, then either click the \"run\" icon above, or press <ctrl><Enter> (simultaneously) on your keyboard.\n",
    "    \n",
    "Try it below!\n"
   ]
  },
  {
   "cell_type": "code",
   "execution_count": null,
   "metadata": {},
   "outputs": [],
   "source": [
    "# click in here, then press \"control enter\" or the run icon above\n",
    "\n",
    "print \"Hi Nawel!\""
   ]
  },
  {
   "cell_type": "markdown",
   "metadata": {},
   "source": [
    "# Now lets have fun!\n",
    "\n",
    "I want to call your grlc server, but first, we need to load a few things.  Execute the code in the box below to se-up the environment\n"
   ]
  },
  {
   "cell_type": "code",
   "execution_count": null,
   "metadata": {},
   "outputs": [],
   "source": [
    "require 'daru/view'\n",
    "require 'rest-client'\n",
    "\n",
    "Daru::View.plotting_library = :nyaplot\n",
    "\n",
    "opts = {\n",
    "  type: :bar,\n",
    "}\n",
    "puts  \"thanks!  Go to the next box now :-)\""
   ]
  },
  {
   "cell_type": "code",
   "execution_count": null,
   "metadata": {},
   "outputs": [],
   "source": [
    "\n",
    "duchenne = \"Orphanet_98896\"\n",
    "becker = \"Orphanet_98895\"\n",
    "duchennecsv = RestClient.get(\"https://www.fairdata.services/proxy/grlc?type=http%3A%2F%2Fwww.orpha.net%2FORDO%2F#{duchenne}\")\n",
    "beckercsv =   RestClient.get(\"https://www.fairdata.services/proxy/grlc?type=http%3A%2F%2Fwww.orpha.net%2FORDO%2F#{becker}\")\n",
    "\n",
    "puts \"Duchenne Patients\"\n",
    "puts duchennecsv\n",
    "puts\n",
    "puts \"Becker\"\n",
    "puts beckercsv"
   ]
  },
  {
   "cell_type": "code",
   "execution_count": null,
   "metadata": {},
   "outputs": [],
   "source": [
    "duchenne_count = duchennecsv.body.split.last.to_i\n",
    "becker_count = beckercsv.body.split.last.to_i\n",
    "\n",
    "data_vector = Daru::Vector.new( \n",
    "  [\"Duchenne\"]*duchenne_count + [\"Becker\"]*becker_count, \n",
    "  type: :category, \n",
    "  categories: [\"Duchenne\", \"Becker\"]\n",
    "  )\n",
    "\n",
    "graph = Daru::View::Plot.new(data_vector, opts)\n",
    "graph.chart.x_label(\"Disease\")\n",
    "graph.chart.y_label(\"Frequency\")\n",
    "graph.show_in_iruby"
   ]
  }
 ],
 "metadata": {
  "kernelspec": {
   "display_name": "Ruby 3.0.0",
   "language": "ruby",
   "name": "ruby"
  },
  "language_info": {
   "file_extension": ".rb",
   "mimetype": "application/x-ruby",
   "name": "ruby",
   "version": "3.0.0"
  }
 },
 "nbformat": 4,
 "nbformat_minor": 2
}
